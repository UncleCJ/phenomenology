{
 "cells": [
  {
   "cell_type": "markdown",
   "metadata": {},
   "source": [
    "# Experiments in language analysis of Hegel's \"Phenomenology of Spirit\"\n",
    "\n",
    "Since long I have dreamt of visualizing complex works of literature in a style such as the [XKCD movie narrative charts](https://www.explainxkcd.com/wiki/index.php/657:_Movie_Narrative_Charts) (inspiring [scientific projects](https://link.springer.com/chapter/10.1007/978-3-319-50106-2_30)). Previously I have performed basic experiments on the [Illuminatus Trilogy](https://www.goodreads.com/book/show/57913.The_Illuminatus_Trilogy) using [NLTK](http://www.nltk.org/), and now that we have been reading the [Phenomenology of Spirit](https://www.goodreads.com/book/show/9454.Phenomenology_of_Spirit?ac=1&from_search=true) it is an excellent candidate of illumination through analysis. \n",
    "\n",
    "* [German text](https://www.marxists.org/deutsch/philosophie/hegel/phaenom/index.htm)\n",
    "* [English text](https://www.marxists.org/reference/archive/hegel/works/ph/phconten.htm)\n"
   ]
  },
  {
   "cell_type": "markdown",
   "metadata": {},
   "source": [
    "## Environment and initialization\n",
    "\n",
    "I intend to use Jupyter (iPython Notebook) and NLTK. Installing a functioning python environment is always messy - the recommendation is to install as little as possible as root, and place all your dependencies in a virtualenv (or docker container). \n",
    "\n",
    "    apt-get install python3-virtualenv w3m wget\n",
    "    mkdir -p venv\n",
    "    virtualenv --python python3 venv\n",
    "    source venv/bin/activate\n",
    "    pip install -r requirements.txt\n",
    "\n",
    "I won't add any possibly copyrighted source material here, fetch them to the `de/` and `en/` directories:\n",
    "\n",
    "    ./initialize.sh"
   ]
  },
  {
   "cell_type": "code",
   "execution_count": 4,
   "metadata": {},
   "outputs": [],
   "source": [
    "import nltk"
   ]
  }
 ],
 "metadata": {
  "kernelspec": {
   "display_name": "Python 3",
   "language": "python",
   "name": "python3"
  },
  "language_info": {
   "codemirror_mode": {
    "name": "ipython",
    "version": 3
   },
   "file_extension": ".py",
   "mimetype": "text/x-python",
   "name": "python",
   "nbconvert_exporter": "python",
   "pygments_lexer": "ipython3",
   "version": "3.5.2"
  }
 },
 "nbformat": 4,
 "nbformat_minor": 1
}
