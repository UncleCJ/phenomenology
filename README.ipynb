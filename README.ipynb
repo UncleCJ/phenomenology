{
 "metadata": {
  "name": "",
  "signature": "sha256:07d64437065a4e8850db6428169d22ff8981227ee51a7c0106404500090bdff4"
 },
 "nbformat": 3,
 "nbformat_minor": 0,
 "worksheets": [
  {
   "cells": [
    {
     "cell_type": "markdown",
     "metadata": {},
     "source": [
      "# Experiments in language analysis of Hegel's \"Phenomenology of Spirit\"\n",
      "\n",
      "Since long I have dreamt of visualizing complex works of literature in a style such as the [XKCD movie narrative charts](https://www.explainxkcd.com/wiki/index.php/657:_Movie_Narrative_Charts) (inspiring [scientific projects](https://link.springer.com/chapter/10.1007/978-3-319-50106-2_30)). Previously I have performed basic experiments on the [Illuminatus Trilogy](https://www.goodreads.com/book/show/57913.The_Illuminatus_Trilogy) using [NLTK](http://www.nltk.org/), and now that we have been reading the [Phenomenology of Spirit](https://www.goodreads.com/book/show/9454.Phenomenology_of_Spirit?ac=1&from_search=true) it is an excellent candidate of illumination through analysis. \n",
      "\n",
      "* [German text](https://www.marxists.org/deutsch/philosophie/hegel/phaenom/index.htm)\n",
      "* [English text](https://www.marxists.org/reference/archive/hegel/works/ph/phconten.htm)\n"
     ]
    },
    {
     "cell_type": "code",
     "collapsed": false,
     "input": [
      "import ntlk\n",
      "\n",
      "print \"nltk\""
     ],
     "language": "python",
     "metadata": {},
     "outputs": [
      {
       "ename": "ImportError",
       "evalue": "No module named ntlk",
       "output_type": "pyerr",
       "traceback": [
        "\u001b[0;31m---------------------------------------------------------------------------\u001b[0m\n\u001b[0;31mImportError\u001b[0m                               Traceback (most recent call last)",
        "\u001b[0;32m<ipython-input-1-1a13e7f75a60>\u001b[0m in \u001b[0;36m<module>\u001b[0;34m()\u001b[0m\n\u001b[0;32m----> 1\u001b[0;31m \u001b[0;32mimport\u001b[0m \u001b[0mntlk\u001b[0m\u001b[0;34m\u001b[0m\u001b[0m\n\u001b[0m\u001b[1;32m      2\u001b[0m \u001b[0;34m\u001b[0m\u001b[0m\n\u001b[1;32m      3\u001b[0m \u001b[0;32mprint\u001b[0m \u001b[0;34m\"nltk\"\u001b[0m\u001b[0;34m\u001b[0m\u001b[0m\n",
        "\u001b[0;31mImportError\u001b[0m: No module named ntlk"
       ]
      }
     ],
     "prompt_number": 1
    },
    {
     "cell_type": "markdown",
     "metadata": {},
     "source": [
      "## Initialization\n",
      "\n",
      "I won't add any possibly copyrighted source material here, fetch them to the `de/` and `en/` directorys:\n",
      "\n",
      "     wget -Lr -np -nH --cut-dirs=5 https://www.marxists.org/reference/archive/hegel/works/ph/phconten.htm\n",
      "     for i in *.htm; do w3m -dump $i > ${i/htm/txt} ; done"
     ]
    },
    {
     "cell_type": "code",
     "collapsed": false,
     "input": [],
     "language": "python",
     "metadata": {},
     "outputs": []
    }
   ],
   "metadata": {}
  }
 ]
}